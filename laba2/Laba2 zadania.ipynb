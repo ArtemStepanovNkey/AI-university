{
 "cells": [
  {
   "cell_type": "markdown",
   "id": "72bfbf19-64c4-4fc2-bc6a-77cc265b7e46",
   "metadata": {},
   "source": [
    "**Создайте массив NumPy размером 3×3, содержащий числа от 1 до 9. Умножьте\n",
    "все элементы массива на 2, а затем замените все элементы больше 10 на 0.\n",
    "Выведите итоговый массив. Реши задание в jupyter notebook формате**\n"
   ]
  },
  {
   "cell_type": "code",
   "execution_count": 4,
   "id": "0d50962b-1b58-439d-9576-3837f2985d04",
   "metadata": {},
   "outputs": [
    {
     "name": "stdout",
     "output_type": "stream",
     "text": [
      "[[ 2  4  6]\n",
      " [ 8 10  0]\n",
      " [ 0  0  0]]\n"
     ]
    }
   ],
   "source": [
    "import numpy as np\n",
    "\n",
    "\n",
    "arraynp = np.arange(1, 10).reshape(3, 3)\n",
    "arraynp = arraynp * 2\n",
    "arraynp[arraynp > 10] = 0\n",
    "print(arraynp)"
   ]
  },
  {
   "cell_type": "markdown",
   "id": "86cab171-526a-4afd-b364-3d24bfedefaf",
   "metadata": {},
   "source": [
    "**Создайте массив NumPy из 20 случайных целых чисел от 1 до 100. Найдите и\n",
    "выведите все элементы, которые делятся на 5 без остатка. Затем замените их на\n",
    "-1 и выведите обновленный массив.**\n"
   ]
  },
  {
   "cell_type": "code",
   "execution_count": 10,
   "id": "a59b9a6e-59cc-4941-9f7a-82f6c6ec70d2",
   "metadata": {},
   "outputs": [
    {
     "name": "stdout",
     "output_type": "stream",
     "text": [
      "Исходный массив:\n",
      "[ 13  92  79  20  33   9  50  21  37  23  50  31  33  29   4  15 100  57\n",
      "  15  78]\n",
      "Элементы, которые делятся на 5:\n",
      "20 50 50 15 100 15\n",
      "Обновленный массив:\n",
      "[13 92 79 -1 33  9 -1 21 37 23 -1 31 33 29  4 -1 -1 57 -1 78]\n"
     ]
    }
   ],
   "source": [
    "import numpy as np\n",
    "\n",
    "\n",
    "array = np.random.randint(1, 101, 20)\n",
    "print(\"Исходный массив:\")\n",
    "print(array)\n",
    "divisible_by_5 = array[array % 5 == 0]\n",
    "print(\"Элементы, которые делятся на 5:\")\n",
    "print(*divisible_by_5)\n",
    "array[array % 5 == 0] = -1\n",
    "print(\"Обновленный массив:\")\n",
    "print(array)"
   ]
  },
  {
   "cell_type": "markdown",
   "id": "a486d590-1bbc-44dc-8028-2e72ae68f281",
   "metadata": {},
   "source": [
    "**Создайте два массива NumPy размером 1×5, заполненные случайными числами\n",
    "от 0 до 50.Объедините эти массивы в один двумерный массив (по строкам).\n",
    "Разделите полученный массив на два массива, каждый из которых содержит 5\n",
    "элементов.Выведите все промежуточные и итоговые результаты.**"
   ]
  },
  {
   "cell_type": "code",
   "execution_count": 17,
   "id": "72086c5e-1e1b-430d-885d-b7b44091c789",
   "metadata": {},
   "outputs": [
    {
     "name": "stdout",
     "output_type": "stream",
     "text": [
      "Исходный массив 1:\n",
      "[[ 5 14 29  6  5]]\n",
      "Исходный массив 2:\n",
      "[[34 16  2 22 31]]\n",
      "Объединенный массив (по строкам):\n",
      "[[ 5 14 29  6  5]\n",
      " [34 16  2 22 31]]\n",
      "Разделенный массив 1:\n",
      "[[ 5 14 29  6  5]]\n",
      "Разделенный массив 2:\n",
      "[[34 16  2 22 31]]\n"
     ]
    }
   ],
   "source": [
    "import numpy as np\n",
    "\n",
    "array1 = np.random.randint(0, 51, (1, 5))\n",
    "array2 = np.random.randint(0, 51, (1, 5))\n",
    "\n",
    "print(\"Исходный массив 1:\")\n",
    "print(array1)\n",
    "print(\"Исходный массив 2:\")\n",
    "print(array2)\n",
    "combined_array = np.vstack((array1, array2))\n",
    "print(\"Объединенный массив (по строкам):\")\n",
    "print(combined_array)\n",
    "\n",
    "split_array1, split_array2 = np.vsplit(combined_array, 2)\n",
    "\n",
    "print(\"Разделенный массив 1:\")\n",
    "print(split_array1)\n",
    "print(\"Разделенный массив 2:\")\n",
    "print(split_array2)"
   ]
  },
  {
   "cell_type": "markdown",
   "id": "3fee108f-fd60-4e8c-ae7e-66dff058ae23",
   "metadata": {},
   "source": [
    "**Создайте массив из 50 чисел, равномерно распределенных от -10 до 10.\n",
    "Вычислите сумму всех элементов, сумму положительных элементов и сумму\n",
    "отрицательных элементов. Выведите результаты.**\n"
   ]
  },
  {
   "cell_type": "code",
   "execution_count": 28,
   "id": "f70bfb16-ae78-41b6-b926-7a40cdb867ae",
   "metadata": {},
   "outputs": [
    {
     "name": "stdout",
     "output_type": "stream",
     "text": [
      "Массив:\n",
      "[-10.          -9.59183673  -9.18367347  -8.7755102   -8.36734694\n",
      "  -7.95918367  -7.55102041  -7.14285714  -6.73469388  -6.32653061\n",
      "  -5.91836735  -5.51020408  -5.10204082  -4.69387755  -4.28571429\n",
      "  -3.87755102  -3.46938776  -3.06122449  -2.65306122  -2.24489796\n",
      "  -1.83673469  -1.42857143  -1.02040816  -0.6122449   -0.20408163\n",
      "   0.20408163   0.6122449    1.02040816   1.42857143   1.83673469\n",
      "   2.24489796   2.65306122   3.06122449   3.46938776   3.87755102\n",
      "   4.28571429   4.69387755   5.10204082   5.51020408   5.91836735\n",
      "   6.32653061   6.73469388   7.14285714   7.55102041   7.95918367\n",
      "   8.36734694   8.7755102    9.18367347   9.59183673  10.        ]\n",
      "Сумма всех элементов: 7.105427357601002e-15\n",
      "Сумма положительных элементов: 127.55102040816328\n",
      "Сумма отрицательных элементов: -127.55102040816327\n"
     ]
    }
   ],
   "source": [
    "import numpy as np\n",
    "\n",
    "\n",
    "array = np.linspace(-10, 10, 50)\n",
    "print(\"Массив:\")\n",
    "print(array)\n",
    "total_sum = np.sum(array)\n",
    "positive_sum = np.sum(array[array > 0])\n",
    "negative_sum = np.sum(array[array < 0])\n",
    "print(\"Сумма всех элементов:\", total_sum)\n",
    "print(\"Сумма положительных элементов:\", positive_sum)\n",
    "print(\"Сумма отрицательных элементов:\", negative_sum)\n",
    "# прикольный метод linspace, мне понравился)) но логически сумма же должна быть 0, если они равномерно распределены, тут хочу уточнить момент"
   ]
  },
  {
   "cell_type": "markdown",
   "id": "2d9639e6-7b15-4c63-9524-bbe3b577a219",
   "metadata": {},
   "source": [
    "*Создайте:*\n",
    "**Единичную матрицу размером 4×4.\n",
    "Диагональную матрицу размером 4×4 с диагональными элементами [5, 10, 15,\n",
    "20] (не использовать циклы)**\n",
    "*Найдите сумму всех элементов каждой из этих матриц и сравните результаты*"
   ]
  },
  {
   "cell_type": "code",
   "execution_count": 33,
   "id": "774833e6-74cc-42d8-b01c-2bc3fdd63cd5",
   "metadata": {},
   "outputs": [
    {
     "name": "stdout",
     "output_type": "stream",
     "text": [
      "Единичная матрица:\n",
      "[[1. 0. 0. 0.]\n",
      " [0. 1. 0. 0.]\n",
      " [0. 0. 1. 0.]\n",
      " [0. 0. 0. 1.]]\n",
      "Диагональная матрица:\n",
      "[[ 5  0  0  0]\n",
      " [ 0 10  0  0]\n",
      " [ 0  0 15  0]\n",
      " [ 0  0  0 20]]\n",
      "Сумма всех элементов единичной матрицы: 4.0\n",
      "Сумма всех элементов диагональной матрицы: 50\n",
      "Сумма элементов диагональной матрицы больше.\n"
     ]
    }
   ],
   "source": [
    "import numpy as np\n",
    "\n",
    "\n",
    "edin_mat = np.eye(4)\n",
    "print(\"Единичная матрица:\")\n",
    "print(edin_mat)\n",
    "diag_mat = np.diag([5, 10, 15, 20])\n",
    "print(\"Диагональная матрица:\")\n",
    "print(diag_mat)\n",
    "summa_edin = np.sum(edin_mat)\n",
    "sum_diagonal = np.sum(diag_mat)\n",
    "print(\"Сумма всех элементов единичной матрицы:\", summa_edin)\n",
    "print(\"Сумма всех элементов диагональной матрицы:\", sum_diagonal)\n",
    "if summa_edin > sum_diagonal:\n",
    "    print(\"Сумма элементов единичной матрицы больше.\")\n",
    "elif summa_edin < sum_diagonal:\n",
    "    print(\"Сумма элементов диагональной матрицы больше.\")\n",
    "else:\n",
    "    print(\"Суммы элементов матриц равны.\")"
   ]
  },
  {
   "cell_type": "markdown",
   "id": "a67b2c8b-fd3e-4c8e-8a22-b87c5968db4c",
   "metadata": {},
   "source": [
    "**Создайте две квадратные матрицы NumPy размером 3×3, заполненные\n",
    "случайными целыми числами от 1 до 20. Вычислите и выведите:\n",
    "Их сумму\n",
    "Их разность\n",
    "Их поэлементное произведение**"
   ]
  },
  {
   "cell_type": "code",
   "execution_count": 36,
   "id": "963cc750-3963-4a41-9019-eb17a2a5aa12",
   "metadata": {},
   "outputs": [
    {
     "name": "stdout",
     "output_type": "stream",
     "text": [
      "Матрица 1:\n",
      "[[19  9  1]\n",
      " [13 12  1]\n",
      " [14 10  2]]\n",
      "Матрица 2:\n",
      "[[ 3  5  2]\n",
      " [ 9 11  5]\n",
      " [19 16 10]]\n",
      "Сумма матриц:\n",
      "[[22 14  3]\n",
      " [22 23  6]\n",
      " [33 26 12]]\n",
      "Разность матриц:\n",
      "[[16  4 -1]\n",
      " [ 4  1 -4]\n",
      " [-5 -6 -8]]\n",
      "Поэлементное произведение матриц:\n",
      "[[ 57  45   2]\n",
      " [117 132   5]\n",
      " [266 160  20]]\n"
     ]
    }
   ],
   "source": [
    "import numpy as np\n",
    "\n",
    "\n",
    "matrix1 = np.random.randint(1, 21, (3, 3))\n",
    "matrix2 = np.random.randint(1, 21, (3, 3))\n",
    "print(\"Матрица 1:\")\n",
    "print(matrix1)\n",
    "print(\"Матрица 2:\")\n",
    "print(matrix2)\n",
    "matrix_sum = matrix1 + matrix2\n",
    "print(\"Сумма матриц:\")\n",
    "print(matrix_sum)\n",
    "matrix_razn = matrix1 - matrix2\n",
    "print(\"Разность матриц:\")\n",
    "print(matrix_razn)\n",
    "matrix_proiz = matrix1 * matrix2\n",
    "print(\"Поэлементное произведение матриц:\")\n",
    "print(matrix_proiz)"
   ]
  },
  {
   "cell_type": "markdown",
   "id": "a42dd2fb-f1b8-4033-bbc2-24196807dec1",
   "metadata": {},
   "source": [
    "**Создайте две матрицы NumPy:Первую размером 2×3, заполненную случайными числами от 1 до 10.\n",
    "Вторую размером 3×2, заполненную случайными числами от 1 до 10. Выполните матричное умножение ( @ или np.dot ) и выведите результат.**"
   ]
  },
  {
   "cell_type": "code",
   "execution_count": 39,
   "id": "ecf99964-7961-4c5d-8e16-4153799fb26f",
   "metadata": {},
   "outputs": [
    {
     "name": "stdout",
     "output_type": "stream",
     "text": [
      "Матрица A:\n",
      "[[9 1 1]\n",
      " [3 1 7]]\n",
      "Матрица B:\n",
      "[[5 4]\n",
      " [8 6]\n",
      " [4 5]]\n",
      "Результат матричного умножения A @ B:\n",
      "[[57 47]\n",
      " [51 53]]\n"
     ]
    }
   ],
   "source": [
    "import numpy as np\n",
    "\n",
    "\n",
    "matrix_A = np.random.randint(1, 11, (2, 3))\n",
    "matrix_B = np.random.randint(1, 11, (3, 2))\n",
    "\n",
    "print(\"Матрица A:\")\n",
    "print(matrix_A)\n",
    "print(\"Матрица B:\")\n",
    "print(matrix_B)\n",
    "matrix_proiz = np.dot(matrix_A, matrix_B)\n",
    "print(\"Результат матричного умножения A @ B:\")\n",
    "print(matrix_proiz)"
   ]
  },
  {
   "cell_type": "markdown",
   "id": "43c600c0-1af9-4aa4-9ef6-ebd11d0c46bd",
   "metadata": {},
   "source": [
    "**Создайте случайную квадратную матрицу 3×3. Найдите и выведите:Определитель этой матрицы\n",
    "Обратную матрицу (если существует, иначе выведите сообщение, что матрица\n",
    "вырождена)Используйте функции np.linalg.det и np.linalg.inv**"
   ]
  },
  {
   "cell_type": "code",
   "execution_count": 45,
   "id": "baa5772e-432f-4e85-a61b-5962d1df8f6f",
   "metadata": {},
   "outputs": [
    {
     "name": "stdout",
     "output_type": "stream",
     "text": [
      "Случайная матрица:\n",
      "[[66 21 67]\n",
      " [40 37 63]\n",
      " [31 79 29]]\n",
      "Определитель матрицы:\n",
      "-106139.99999999985\n",
      "Обратная матрица:\n",
      "[[ 0.03678161 -0.04413039  0.01089128]\n",
      " [-0.00747126  0.00153571  0.013925  ]\n",
      " [-0.01896552  0.04299039 -0.01509327]]\n"
     ]
    }
   ],
   "source": [
    "import numpy as np\n",
    "\n",
    "\n",
    "matrix_rand = np.random.randint(1, 100, (3, 3)) # я сделал от 1 до 100, не знаю какую надо\n",
    "print(\"Случайная матрица:\")\n",
    "print(matrix_rand)\n",
    "\n",
    "D = np.linalg.det(matrix_rand)\n",
    "print(\"Определитель матрицы:\")\n",
    "print(D)\n",
    "if D != 0:\n",
    "    matrix_obr = np.linalg.inv(matrix_rand)\n",
    "    print(\"Обратная матрица:\")\n",
    "    print(matrix_obr)\n",
    "else:\n",
    "    print(\"Матрица вырождена(нет обратной)\")"
   ]
  },
  {
   "cell_type": "markdown",
   "id": "f0e5f9c3-ff6b-4df8-8f51-bc2aefb1901a",
   "metadata": {},
   "source": [
    "**Создайте матрицу NumPy размером 4×4, содержащую случайные целые числа от\n",
    "1 до 50.\n",
    "Выведите:\n",
    "Исходную матрицу\n",
    "Транспонированную матрицу\n",
    "След матрицы (сумму элементов на главной диагонали). Используйте np.trace для нахождения следа.**"
   ]
  },
  {
   "cell_type": "code",
   "execution_count": 48,
   "id": "585522ed-4830-4d04-a422-458850fdbe27",
   "metadata": {},
   "outputs": [
    {
     "name": "stdout",
     "output_type": "stream",
     "text": [
      "Исходная матрица:\n",
      "[[38 28  7 50]\n",
      " [34 27 46 29]\n",
      " [27 27 43  7]\n",
      " [16 32 41 36]]\n",
      "Транспонированная матрица:\n",
      "[[38 34 27 16]\n",
      " [28 27 27 32]\n",
      " [ 7 46 43 41]\n",
      " [50 29  7 36]]\n",
      "След матрицы:\n",
      "144\n"
     ]
    }
   ],
   "source": [
    "import numpy as np\n",
    "\n",
    "matrix = np.random.randint(1, 51, (4, 4))\n",
    "print(\"Исходная матрица:\")\n",
    "print(matrix)\n",
    "matrix_tran = matrix.T\n",
    "print(\"Транспонированная матрица:\")\n",
    "print(matrix_tran)\n",
    "sled = np.trace(matrix)\n",
    "print(\"След матрицы:\")\n",
    "print(sled)"
   ]
  },
  {
   "cell_type": "markdown",
   "id": "aba1c383-c44f-4a22-b74d-5a29cfefb581",
   "metadata": {},
   "source": [
    "**Решите систему линейных уравнений вида:(система уравнений)\n",
    "Используйте матричное представление Ax = B , где A – матрица коэффициентов,\n",
    "x – вектор неизвестных, B – вектор правой части. Решите систему с помощью\n",
    "np.linalg.solve и выведите результат.**"
   ]
  },
  {
   "cell_type": "code",
   "execution_count": 51,
   "id": "c338f5d2-51d4-456a-b610-8c9cc6af30a5",
   "metadata": {},
   "outputs": [
    {
     "name": "stdout",
     "output_type": "stream",
     "text": [
      "x = 1.6396396396396398\n",
      "y = 0.5765765765765767\n",
      "z = 0.009009009009008978\n"
     ]
    }
   ],
   "source": [
    "\n",
    "\n",
    "import numpy as np\n",
    "\n",
    "A = np.array([\n",
    "    [2, 3, -1],\n",
    "    [4, -1, 2],\n",
    "    [-3, 5, 4]\n",
    "])\n",
    "B = np.array([5, 6, -2])\n",
    "x = np.linalg.solve(A, B)\n",
    "print(f\"x = {x[0]}\")\n",
    "print(f\"y = {x[1]}\")\n",
    "print(f\"z = {x[2]}\")"
   ]
  },
  {
   "cell_type": "markdown",
   "id": "76e4e6aa-c9ed-4ae3-b3a5-468639bd96a0",
   "metadata": {},
   "source": [
    "**Решите индивидуальное задание согласно варианта. Каждое задание\n",
    "предусматривает построение системы линейных уравнений. Решите полученную\n",
    "систему уравнений с использованием библиотеки NumPy. Для решения системы\n",
    "используйте метод Крамера и матричный метод. Сравните полученные\n",
    "результаты, с результатами, полученными с помощью np.linalg.solve .**\n",
    "\n",
    "***Планирование транспортных перевозок. Груз нужно перевезти с трех\n",
    "складов на один центральный склад. Первый склад может отправить в два\n",
    "раза больше груза, чем второй, а третий — на 50 тонн больше, чем второй.\n",
    "Всего нужно перевезти 500 тонн. Сколько тонн груза отправит каждый склад?***"
   ]
  },
  {
   "cell_type": "markdown",
   "id": "fbed83cd-da4a-4580-a284-69e668944485",
   "metadata": {},
   "source": [
    "**Метод Крамера**"
   ]
  },
  {
   "cell_type": "code",
   "execution_count": 57,
   "id": "1665e40f-48e8-47c8-a82b-97cbd908c93b",
   "metadata": {},
   "outputs": [
    {
     "name": "stdout",
     "output_type": "stream",
     "text": [
      "0.0\n",
      "Метод Крамера:\n",
      "x1 = nan, x2 = nan, x3 = nan\n"
     ]
    },
    {
     "name": "stderr",
     "output_type": "stream",
     "text": [
      "C:\\Users\\Артём\\AppData\\Local\\Temp\\ipykernel_11280\\515715390.py:26: RuntimeWarning: invalid value encountered in scalar divide\n",
      "  x1 = det_A1 / det_A\n",
      "C:\\Users\\Артём\\AppData\\Local\\Temp\\ipykernel_11280\\515715390.py:27: RuntimeWarning: invalid value encountered in scalar divide\n",
      "  x2 = det_A2 / det_A\n",
      "C:\\Users\\Артём\\AppData\\Local\\Temp\\ipykernel_11280\\515715390.py:28: RuntimeWarning: invalid value encountered in scalar divide\n",
      "  x3 = det_A3 / det_A\n"
     ]
    }
   ],
   "source": [
    "import numpy as np\n",
    "A = np.array([\n",
    "    [2, 1, 1],\n",
    "    [1, 1, 1],\n",
    "    [1, 1, 1]\n",
    "])\n",
    "B = np.array([500, 500, 500])\n",
    "# Определитель матрицы A\n",
    "det_A = np.linalg.det(A)\n",
    "print(det_A) # это я уже проверял из-за чего ошибка, в итоге пришел к выводу, что матрица вырождена и решение невозможно\n",
    "# Матрицы для метода Крамера\n",
    "A_copy_Kramer = A.copy()\n",
    "A_copy_Kramer[:, 0] = B\n",
    "det_A1 = np.linalg.det(A_copy_Kramer)\n",
    "\n",
    "A_copy_Kramer2 = A.copy()\n",
    "A_copy_Kramer2[:, 1] = B\n",
    "det_A2 = np.linalg.det(A_copy_Kramer2)\n",
    "\n",
    "A_copy_Kramer3 = A.copy()\n",
    "A_copy_Kramer3[:, 2] = B\n",
    "det_A3 = np.linalg.det(A_copy_Kramer3)\n",
    "\n",
    "# Решение системы(суть в делении каждого определителя, \n",
    "# подставляя значения из B вместо столбца, стоящего на i-ой позиции, на общий определитель)\n",
    "x1 = det_A1 / det_A\n",
    "x2 = det_A2 / det_A\n",
    "x3 = det_A3 / det_A\n",
    "\n",
    "print(\"Метод Крамера:\")\n",
    "print(f\"x1 = {x1}, x2 = {x2}, x3 = {x3}\")"
   ]
  },
  {
   "cell_type": "markdown",
   "id": "7493cec0-9dc0-4cfc-ae64-b63e9a3f1686",
   "metadata": {},
   "source": [
    "**Метод Матричный**"
   ]
  },
  {
   "cell_type": "code",
   "execution_count": 60,
   "id": "4caffd23-9f1e-4a00-99f8-3134fee6e5ca",
   "metadata": {},
   "outputs": [
    {
     "ename": "LinAlgError",
     "evalue": "Singular matrix",
     "output_type": "error",
     "traceback": [
      "\u001b[1;31m---------------------------------------------------------------------------\u001b[0m",
      "\u001b[1;31mLinAlgError\u001b[0m                               Traceback (most recent call last)",
      "Cell \u001b[1;32mIn[60], line 11\u001b[0m\n\u001b[0;32m      4\u001b[0m A \u001b[38;5;241m=\u001b[39m np\u001b[38;5;241m.\u001b[39marray([\n\u001b[0;32m      5\u001b[0m     [\u001b[38;5;241m2\u001b[39m, \u001b[38;5;241m1\u001b[39m, \u001b[38;5;241m1\u001b[39m],\n\u001b[0;32m      6\u001b[0m     [\u001b[38;5;241m1\u001b[39m, \u001b[38;5;241m1\u001b[39m, \u001b[38;5;241m1\u001b[39m],\n\u001b[0;32m      7\u001b[0m     [\u001b[38;5;241m1\u001b[39m, \u001b[38;5;241m1\u001b[39m, \u001b[38;5;241m1\u001b[39m]\n\u001b[0;32m      8\u001b[0m ])\n\u001b[0;32m      9\u001b[0m B \u001b[38;5;241m=\u001b[39m np\u001b[38;5;241m.\u001b[39marray([\u001b[38;5;241m500\u001b[39m, \u001b[38;5;241m500\u001b[39m, \u001b[38;5;241m500\u001b[39m])\n\u001b[1;32m---> 11\u001b[0m A_obr \u001b[38;5;241m=\u001b[39m np\u001b[38;5;241m.\u001b[39mlinalg\u001b[38;5;241m.\u001b[39minv(A)\n\u001b[0;32m     13\u001b[0m \u001b[38;5;66;03m# Решение системы\u001b[39;00m\n\u001b[0;32m     14\u001b[0m x \u001b[38;5;241m=\u001b[39m A_obr \u001b[38;5;241m@\u001b[39m B\n",
      "File \u001b[1;32mD:\\Anaconda\\Lib\\site-packages\\numpy\\linalg\\linalg.py:561\u001b[0m, in \u001b[0;36minv\u001b[1;34m(a)\u001b[0m\n\u001b[0;32m    559\u001b[0m signature \u001b[38;5;241m=\u001b[39m \u001b[38;5;124m'\u001b[39m\u001b[38;5;124mD->D\u001b[39m\u001b[38;5;124m'\u001b[39m \u001b[38;5;28;01mif\u001b[39;00m isComplexType(t) \u001b[38;5;28;01melse\u001b[39;00m \u001b[38;5;124m'\u001b[39m\u001b[38;5;124md->d\u001b[39m\u001b[38;5;124m'\u001b[39m\n\u001b[0;32m    560\u001b[0m extobj \u001b[38;5;241m=\u001b[39m get_linalg_error_extobj(_raise_linalgerror_singular)\n\u001b[1;32m--> 561\u001b[0m ainv \u001b[38;5;241m=\u001b[39m _umath_linalg\u001b[38;5;241m.\u001b[39minv(a, signature\u001b[38;5;241m=\u001b[39msignature, extobj\u001b[38;5;241m=\u001b[39mextobj)\n\u001b[0;32m    562\u001b[0m \u001b[38;5;28;01mreturn\u001b[39;00m wrap(ainv\u001b[38;5;241m.\u001b[39mastype(result_t, copy\u001b[38;5;241m=\u001b[39m\u001b[38;5;28;01mFalse\u001b[39;00m))\n",
      "File \u001b[1;32mD:\\Anaconda\\Lib\\site-packages\\numpy\\linalg\\linalg.py:112\u001b[0m, in \u001b[0;36m_raise_linalgerror_singular\u001b[1;34m(err, flag)\u001b[0m\n\u001b[0;32m    111\u001b[0m \u001b[38;5;28;01mdef\u001b[39;00m \u001b[38;5;21m_raise_linalgerror_singular\u001b[39m(err, flag):\n\u001b[1;32m--> 112\u001b[0m     \u001b[38;5;28;01mraise\u001b[39;00m LinAlgError(\u001b[38;5;124m\"\u001b[39m\u001b[38;5;124mSingular matrix\u001b[39m\u001b[38;5;124m\"\u001b[39m)\n",
      "\u001b[1;31mLinAlgError\u001b[0m: Singular matrix"
     ]
    }
   ],
   "source": [
    "import numpy as np\n",
    "\n",
    "\n",
    "A = np.array([\n",
    "    [2, 1, 1],\n",
    "    [1, 1, 1],\n",
    "    [1, 1, 1]\n",
    "])\n",
    "B = np.array([500, 500, 500])\n",
    "\n",
    "A_obr = np.linalg.inv(A)\n",
    "\n",
    "# Решение системы\n",
    "x = A_obr @ B\n",
    "\n",
    "print(\"\\nМатричный метод:\")\n",
    "print(f\"x1 = {x[0]}, x2 = {x[1]}, x3 = {x[2]}\")\n",
    "# Тоже не работает естественно из-за определителя=0"
   ]
  },
  {
   "cell_type": "markdown",
   "id": "788fff56-e0eb-4c14-bfc0-75bfbcd2002a",
   "metadata": {},
   "source": [
    "**Использование функции тоже не дало результата**"
   ]
  },
  {
   "cell_type": "code",
   "execution_count": 63,
   "id": "54fdf192-57d3-4358-8ed5-ebda173ecef1",
   "metadata": {},
   "outputs": [
    {
     "ename": "LinAlgError",
     "evalue": "Singular matrix",
     "output_type": "error",
     "traceback": [
      "\u001b[1;31m---------------------------------------------------------------------------\u001b[0m",
      "\u001b[1;31mLinAlgError\u001b[0m                               Traceback (most recent call last)",
      "Cell \u001b[1;32mIn[63], line 12\u001b[0m\n\u001b[0;32m      9\u001b[0m B \u001b[38;5;241m=\u001b[39m np\u001b[38;5;241m.\u001b[39marray([\u001b[38;5;241m500\u001b[39m, \u001b[38;5;241m500\u001b[39m, \u001b[38;5;241m500\u001b[39m])\n\u001b[0;32m     11\u001b[0m \u001b[38;5;66;03m# Решение системы\u001b[39;00m\n\u001b[1;32m---> 12\u001b[0m x \u001b[38;5;241m=\u001b[39m np\u001b[38;5;241m.\u001b[39mlinalg\u001b[38;5;241m.\u001b[39msolve(A, B)\n\u001b[0;32m     14\u001b[0m \u001b[38;5;28mprint\u001b[39m(\u001b[38;5;124m\"\u001b[39m\u001b[38;5;124mМетод np.linalg.solve:\u001b[39m\u001b[38;5;124m\"\u001b[39m)\n\u001b[0;32m     15\u001b[0m \u001b[38;5;28mprint\u001b[39m(\u001b[38;5;124mf\u001b[39m\u001b[38;5;124m\"\u001b[39m\u001b[38;5;124mx1 = \u001b[39m\u001b[38;5;132;01m{\u001b[39;00mx[\u001b[38;5;241m0\u001b[39m]\u001b[38;5;132;01m}\u001b[39;00m\u001b[38;5;124m, x2 = \u001b[39m\u001b[38;5;132;01m{\u001b[39;00mx[\u001b[38;5;241m1\u001b[39m]\u001b[38;5;132;01m}\u001b[39;00m\u001b[38;5;124m, x3 = \u001b[39m\u001b[38;5;132;01m{\u001b[39;00mx[\u001b[38;5;241m2\u001b[39m]\u001b[38;5;132;01m}\u001b[39;00m\u001b[38;5;124m\"\u001b[39m)\n",
      "File \u001b[1;32mD:\\Anaconda\\Lib\\site-packages\\numpy\\linalg\\linalg.py:409\u001b[0m, in \u001b[0;36msolve\u001b[1;34m(a, b)\u001b[0m\n\u001b[0;32m    407\u001b[0m signature \u001b[38;5;241m=\u001b[39m \u001b[38;5;124m'\u001b[39m\u001b[38;5;124mDD->D\u001b[39m\u001b[38;5;124m'\u001b[39m \u001b[38;5;28;01mif\u001b[39;00m isComplexType(t) \u001b[38;5;28;01melse\u001b[39;00m \u001b[38;5;124m'\u001b[39m\u001b[38;5;124mdd->d\u001b[39m\u001b[38;5;124m'\u001b[39m\n\u001b[0;32m    408\u001b[0m extobj \u001b[38;5;241m=\u001b[39m get_linalg_error_extobj(_raise_linalgerror_singular)\n\u001b[1;32m--> 409\u001b[0m r \u001b[38;5;241m=\u001b[39m gufunc(a, b, signature\u001b[38;5;241m=\u001b[39msignature, extobj\u001b[38;5;241m=\u001b[39mextobj)\n\u001b[0;32m    411\u001b[0m \u001b[38;5;28;01mreturn\u001b[39;00m wrap(r\u001b[38;5;241m.\u001b[39mastype(result_t, copy\u001b[38;5;241m=\u001b[39m\u001b[38;5;28;01mFalse\u001b[39;00m))\n",
      "File \u001b[1;32mD:\\Anaconda\\Lib\\site-packages\\numpy\\linalg\\linalg.py:112\u001b[0m, in \u001b[0;36m_raise_linalgerror_singular\u001b[1;34m(err, flag)\u001b[0m\n\u001b[0;32m    111\u001b[0m \u001b[38;5;28;01mdef\u001b[39;00m \u001b[38;5;21m_raise_linalgerror_singular\u001b[39m(err, flag):\n\u001b[1;32m--> 112\u001b[0m     \u001b[38;5;28;01mraise\u001b[39;00m LinAlgError(\u001b[38;5;124m\"\u001b[39m\u001b[38;5;124mSingular matrix\u001b[39m\u001b[38;5;124m\"\u001b[39m)\n",
      "\u001b[1;31mLinAlgError\u001b[0m: Singular matrix"
     ]
    }
   ],
   "source": [
    "import numpy as np\n",
    "\n",
    "\n",
    "A = np.array([\n",
    "    [2, 1, 1],\n",
    "    [1, 1, 1],\n",
    "    [1, 1, 1]\n",
    "])\n",
    "B = np.array([500, 500, 500])\n",
    "\n",
    "# Решение системы\n",
    "x = np.linalg.solve(A, B)\n",
    "\n",
    "print(\"Метод np.linalg.solve:\")\n",
    "print(f\"x1 = {x[0]}, x2 = {x[1]}, x3 = {x[2]}\")"
   ]
  },
  {
   "cell_type": "code",
   "execution_count": null,
   "id": "54057881-f19d-41d4-8c6f-9eb7266e3dbb",
   "metadata": {},
   "outputs": [],
   "source": []
  }
 ],
 "metadata": {
  "kernelspec": {
   "display_name": "Python [conda env:base] *",
   "language": "python",
   "name": "conda-base-py"
  },
  "language_info": {
   "codemirror_mode": {
    "name": "ipython",
    "version": 3
   },
   "file_extension": ".py",
   "mimetype": "text/x-python",
   "name": "python",
   "nbconvert_exporter": "python",
   "pygments_lexer": "ipython3",
   "version": "3.12.7"
  }
 },
 "nbformat": 4,
 "nbformat_minor": 5
}
