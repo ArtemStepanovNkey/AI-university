{
  "nbformat": 4,
  "nbformat_minor": 0,
  "metadata": {
    "colab": {
      "provenance": []
    },
    "kernelspec": {
      "name": "python3",
      "display_name": "Python 3"
    },
    "language_info": {
      "name": "python"
    }
  },
  "cells": [
    {
      "cell_type": "code",
      "execution_count": 4,
      "metadata": {
        "colab": {
          "base_uri": "https://localhost:8080/"
        },
        "id": "wWNkXVSfNG8I",
        "outputId": "bf99fc70-3b36-40f5-91a0-85618e65de33"
      },
      "outputs": [
        {
          "output_type": "stream",
          "name": "stdout",
          "text": [
            "Содержимое файла:\n",
            " Я люблю когда\n",
            " шумят березы\n",
            "Файл существует: True\n",
            "Файл удален.\n"
          ]
        }
      ],
      "source": [
        "import os\n",
        "\n",
        "with open(\"file.txt\", \"w\") as f:\n",
        "  f.write(\"Я \")\n",
        "  f.write(\"люблю \")\n",
        "  f.write(\"когда\\n\")\n",
        "  f.write(\"шумят березы\")\n",
        "\n",
        "with open(\"file.txt\", \"r\") as f:\n",
        "  content = f.readlines()\n",
        "  print(\"Содержимое файла:\\n\", *content)\n",
        "\n",
        "print(\"Файл существует:\", os.path.exists(\"file.txt\"))\n",
        "\n",
        "os.remove(\"file.txt\")\n",
        "print(\"Файл удален.\")\n",
        ""
      ]
    }
  ]
}