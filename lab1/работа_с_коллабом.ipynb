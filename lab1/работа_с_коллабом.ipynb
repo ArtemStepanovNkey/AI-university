{
  "nbformat": 4,
  "nbformat_minor": 0,
  "metadata": {
    "colab": {
      "provenance": []
    },
    "kernelspec": {
      "name": "python3",
      "display_name": "Python 3"
    },
    "language_info": {
      "name": "python"
    }
  },
  "cells": [
    {
      "cell_type": "code",
      "execution_count": 1,
      "metadata": {
        "colab": {
          "base_uri": "https://localhost:8080/"
        },
        "id": "rP-QzLvdYa3w",
        "outputId": "e439571b-9484-4d4e-ee53-fdaaa43ccdda"
      },
      "outputs": [
        {
          "output_type": "stream",
          "name": "stdout",
          "text": [
            "Mounted at /content/drive\n"
          ]
        }
      ],
      "source": [
        "from google.colab import drive\n",
        "drive.mount('/content/drive')"
      ]
    },
    {
      "cell_type": "code",
      "source": [
        "!ls"
      ],
      "metadata": {
        "colab": {
          "base_uri": "https://localhost:8080/"
        },
        "id": "ASDDaLwaYpfM",
        "outputId": "6cc36a50-6c96-4e3e-ee63-d7335d171bdd"
      },
      "execution_count": 2,
      "outputs": [
        {
          "output_type": "stream",
          "name": "stdout",
          "text": [
            "drive  sample_data\n"
          ]
        }
      ]
    },
    {
      "cell_type": "code",
      "source": [
        "with open(\"textfile.txt\", \"w\") as f:\n",
        "  f.write(\"Баран прыгнул с крыши\\n\")\n",
        "  f.write('И поймал кошку')\n",
        "\n",
        "f.close()\n",
        "\n",
        "\n",
        "\n"
      ],
      "metadata": {
        "id": "yy_k1LA0Y3im"
      },
      "execution_count": 3,
      "outputs": []
    },
    {
      "cell_type": "code",
      "source": [
        "with open(\"textfile.txt\", \"r\") as f:\n",
        "  sp = f.readlines()\n",
        "  print(*sp, sep='\\n')"
      ],
      "metadata": {
        "colab": {
          "base_uri": "https://localhost:8080/"
        },
        "id": "nrInlqO8ZTOs",
        "outputId": "4f2cc63a-288d-4099-adaa-4ba877c9107f"
      },
      "execution_count": 4,
      "outputs": [
        {
          "output_type": "stream",
          "name": "stdout",
          "text": [
            "Баран прыгнул с крыши\n",
            "\n",
            "И поймал кошку\n"
          ]
        }
      ]
    },
    {
      "cell_type": "code",
      "source": [
        "cats_info = [    [\"Сиамская\", \"Сиамский окрас (кремовый с темными отметинами)\", \"Общительные, умные, любящие\", \"12-15 лет\"],\n",
        "    [\"Мaine Coon\", \"Разнообразные окрасы (черный, красный, табби и т.д.)\", \"Большие размеры, дружелюбие, ум\", \"12-15 лет\"],\n",
        "    [\"Британская короткошерстная\", \"Серый, черный, кремовый, голубой\", \"Спокойные, уравновешенные, независимые\", \"12-20 лет\"],\n",
        "    [\"Персидская\", \"Белая, черная, дымчатая, лиловая\", \"Очень пушистые, требуют ухода, спокойные\", \"12-15 лет\"],\n",
        "    [\"Русская голубая\", \"Серебристо-голубой\", \"Интеллигентные, независимые, игривые\", \"15-20 лет\"]\n",
        "]\n",
        "csv_path = \"/content/drive/MyDrive/cats.csv\"\n",
        "with open(csv_path, \"w\", encoding='UTF-8') as f:\n",
        "  for elem in cats_info:\n",
        "    f.write(\",\".join(map(str, elem)) + \"\\n\")\n"
      ],
      "metadata": {
        "id": "etAgvR3HaVe9"
      },
      "execution_count": 8,
      "outputs": []
    }
  ]
}