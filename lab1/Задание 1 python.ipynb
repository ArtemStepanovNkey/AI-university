{
 "cells": [
  {
   "cell_type": "code",
   "execution_count": 1,
   "id": "436dc2d0-dc42-4d90-966a-1578bfd18dbf",
   "metadata": {},
   "outputs": [
    {
     "name": "stdin",
     "output_type": "stream",
     "text": [
      "Введите свое имя:  Артем\n"
     ]
    },
    {
     "name": "stdout",
     "output_type": "stream",
     "text": [
      "Привет, Артем! Добро пожаловать в JupyterLab\n"
     ]
    }
   ],
   "source": [
    "print(f\"Привет, {input('Введите свое имя: ')}! Добро пожаловать в JupyterLab\" )"
   ]
  },
  {
   "cell_type": "code",
   "execution_count": null,
   "id": "3f45393a-1883-43d8-8c33-4a1b81220c35",
   "metadata": {},
   "outputs": [],
   "source": []
  }
 ],
 "metadata": {
  "kernelspec": {
   "display_name": "Python [conda env:base] *",
   "language": "python",
   "name": "conda-base-py"
  },
  "language_info": {
   "codemirror_mode": {
    "name": "ipython",
    "version": 3
   },
   "file_extension": ".py",
   "mimetype": "text/x-python",
   "name": "python",
   "nbconvert_exporter": "python",
   "pygments_lexer": "ipython3",
   "version": "3.12.7"
  }
 },
 "nbformat": 4,
 "nbformat_minor": 5
}
